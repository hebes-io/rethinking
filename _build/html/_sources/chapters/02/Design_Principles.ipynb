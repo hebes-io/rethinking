{
 "cells": [
  {
   "cell_type": "markdown",
   "id": "caefc7fb",
   "metadata": {},
   "source": [
    "# The design principles of `eensight`"
   ]
  },
  {
   "cell_type": "code",
   "execution_count": 9,
   "id": "a87d1be0",
   "metadata": {},
   "outputs": [],
   "source": [
    "import matplotlib.pyplot as plt\n",
    "\n",
    "from eensight.utils import load_catalog\n",
    "\n",
    "plt.style.use(\"bmh\")\n",
    "\n",
    "%matplotlib inline"
   ]
  },
  {
   "cell_type": "markdown",
   "id": "16b51f4d",
   "metadata": {},
   "source": [
    "## Installation"
   ]
  },
  {
   "cell_type": "markdown",
   "id": "b8152b06",
   "metadata": {},
   "source": [
    "`eensight` can be installed by pip:\n",
    "\n",
    "```bash\n",
    "pip install eensight\n",
    "```"
   ]
  },
  {
   "cell_type": "markdown",
   "id": "34d6fbcf",
   "metadata": {},
   "source": [
    "## Namespaces"
   ]
  },
  {
   "cell_type": "markdown",
   "id": "91cd610f",
   "metadata": {},
   "source": [
    "There are three (3) namespaces in `eensight`: \n",
    "\n",
    "* `train`: Datasets and pipelines that exist in the `train` namespace will be used for baseline model training.\n",
    "\n",
    "* `test`: Datasets and pipelines that exist in the `test` namespace will be used for baseline model evaluation. \n",
    "\n",
    "* `apply`: Datasets and pipelines that exist in the `apply` namespace will be used for counterfactual prediction (the reporting period).\n",
    "\n",
    "This means that, by convention, there should be no difference between `train` and `test` data. If an event that alters the characteristics of the energy consumption (such as an energy retrofit) has taken place, the post-event data should be in the `apply` namespace. "
   ]
  },
  {
   "cell_type": "markdown",
   "id": "24c0a975",
   "metadata": {},
   "source": [
    "## Pipelines"
   ]
  },
  {
   "cell_type": "markdown",
   "id": "3775ba7c",
   "metadata": {},
   "source": [
    "All the functionality in `eensight` is organized around data pipelines. Each pipeline consumes data and other artifacts (such as models) produced by a previous pipeline, and produces new data and artifacts for its successor pipelines.\n",
    "\n",
    "There are four (4) pipelines in `eensight`. The names of the pipelines and the associations between pipelines and namespaces are summarized below:\n",
    "\n",
    "|            \t| train    \t| test   \t| apply   |\n",
    "|------------\t|----------\t|----------\t|---------|\n",
    "| preprocess \t| &#10004; \t| &#10004; \t| &#10004;|\n",
    "| predict    \t| &#10004; \t| &#10004;\t| &#10004;|\n",
    "| evaluate    \t|          \t| &#10004;  | &#10004;|\n",
    "| adjust    \t|          \t|           | &#10004;|\n",
    "\n",
    "The next chapters will explain in detail the functionality of each pipeline.\n",
    "\n",
    "The primary way of using `eensight` is through the command line. The first argument is always the name of the pipeline to run, such as:\n",
    "\n",
    "```bash\n",
    "eensight run predict\n",
    "```\n",
    "\n",
    "The command\n",
    "\n",
    "```bash\n",
    "eensight run all\n",
    "```\n",
    "\n",
    "will run pipelines one after the other, while the command\n",
    "\n",
    "```bash\n",
    "eensight run default\n",
    "```\n",
    "will run only the `preprocess` and `predict` pipelines."
   ]
  },
  {
   "cell_type": "markdown",
   "id": "659356d9",
   "metadata": {},
   "source": [
    "## Input data"
   ]
  },
  {
   "cell_type": "markdown",
   "id": "956867dc",
   "metadata": {},
   "source": [
    "There are four (4) arguments that affect where `eensight` searches for the input data, and where it stores all intermediate and final results:\n",
    "\n",
    "`--site-id`: The id or name of the building site. This enables path configurations that include the site id to differentiate between different datasets.\n",
    "\n",
    "`--store-uri`: The URI where the generated data and models should be stored. If not provided, `eensigh` will search for an `EENSIGHT_STORE_URI` environmemt variable.\n",
    "\n",
    "`--input-uri`: The URI where the input data can be found. If provided, the input features are expected to be found at `{{ input_uri }}/{{ namespace }}/features` and the input labels at `{{ input_uri }}/{{ namespace }}/labels`. If not provided, `eensight` will use `{{ store_uri }}/{{ site_id }}/01_raw/{{ namespace }}/features` path as default for the input features and `{{ store_uri }}/{{ site_id }}/01_raw/{{ namespace }}/labels` for the input labels.\n",
    "\n",
    "`--batch`: The batch id for the input data (features and labels) to apply the pipelines on. In `eensight`, training and testing of pipelines (`train` and `test` namespaces) is done on specific\n",
    "datasets, but applying the pipelines (`apply` namespace) can be done on different batches of the data. If `batch` is provided, the input data is expected to be inside a `.../apply/{{ batch }}/features` path for features and `.../apply/{{ batch }}/labels` for labels."
   ]
  },
  {
   "cell_type": "markdown",
   "id": "5537ef64",
   "metadata": {},
   "source": [
    "## Data catalog"
   ]
  },
  {
   "cell_type": "markdown",
   "id": "3050fa84",
   "metadata": {},
   "source": [
    "All pipelines get and store their datasets, parameters and models by interacting with a [data catalog](https://kedro.readthedocs.io/en/stable/data/data_catalog.html):\n",
    "\n",
    "![Catalog](../../images/catalog.png)"
   ]
  },
  {
   "cell_type": "markdown",
   "id": "6211885f",
   "metadata": {},
   "source": [
    "The catalog is parameterized by the following arguments that can be passed to the command line when running `eensight`:\n",
    "\n",
    "<code>--site-id</code>: The id or name of the building site.\n",
    "\n",
    "\n",
    "<code>--namespace</code>: The namespace acts as a prefix to the artifacts in the catalog.\n",
    "\n",
    "The function `eensight.utils.load_catalog` allows loading the `eensight` catalog while parameterizing it for the `site_id` and the `namespace`. As an example, we can load the `train` data of the *b01* dataset. The *b01* dataset corresponds to the building with `id=4` of the dataset provided by the [EnergyDetective 2020](https://zenodo.org/record/6590976) competition. "
   ]
  },
  {
   "cell_type": "code",
   "execution_count": 6,
   "id": "d7b763d5",
   "metadata": {},
   "outputs": [],
   "source": [
    "catalog = load_catalog(store_uri=\"../../data\", site_id=\"b01\", namespace=\"train\")"
   ]
  },
  {
   "cell_type": "markdown",
   "id": "0b8828ed",
   "metadata": {},
   "source": [
    "The contents of the parameterized catalog are:"
   ]
  },
  {
   "cell_type": "code",
   "execution_count": 4,
   "id": "a27f1a07",
   "metadata": {},
   "outputs": [
    {
     "data": {
      "text/html": [
       "<pre style=\"white-space:pre;overflow-x:auto;line-height:normal;font-family:Menlo,'DejaVu Sans Mono',consolas,'Courier New',monospace\">\n",
       "<span style=\"font-weight: bold\">[</span>\n",
       "    <span style=\"color: #008000; text-decoration-color: #008000\">'model'</span>,\n",
       "    <span style=\"color: #008000; text-decoration-color: #008000\">'model-autoenc'</span>,\n",
       "    <span style=\"color: #008000; text-decoration-color: #008000\">'train.input-features'</span>,\n",
       "    <span style=\"color: #008000; text-decoration-color: #008000\">'train.input-labels'</span>,\n",
       "    <span style=\"color: #008000; text-decoration-color: #008000\">'train.validated-features'</span>,\n",
       "    <span style=\"color: #008000; text-decoration-color: #008000\">'train.validated-labels'</span>,\n",
       "    <span style=\"color: #008000; text-decoration-color: #008000\">'train.preprocessed-features'</span>,\n",
       "    <span style=\"color: #008000; text-decoration-color: #008000\">'train.preprocessed-labels'</span>,\n",
       "    <span style=\"color: #008000; text-decoration-color: #008000\">'train.adequacy-summary'</span>,\n",
       "    <span style=\"color: #008000; text-decoration-color: #008000\">'train.prediction'</span>,\n",
       "    <span style=\"color: #008000; text-decoration-color: #008000\">'train.prediction-autoenc'</span>,\n",
       "    <span style=\"color: #008000; text-decoration-color: #008000\">'train.activity'</span>,\n",
       "    <span style=\"color: #008000; text-decoration-color: #008000\">'train.performance'</span>,\n",
       "    <span style=\"color: #008000; text-decoration-color: #008000\">'train.performance-autoenc'</span>,\n",
       "    <span style=\"color: #008000; text-decoration-color: #008000\">'parameters'</span>,\n",
       "    <span style=\"color: #008000; text-decoration-color: #008000\">'app'</span>,\n",
       "    <span style=\"color: #008000; text-decoration-color: #008000\">'params:activity'</span>,\n",
       "    <span style=\"color: #008000; text-decoration-color: #008000\">'params:activity.non_occ_features'</span>,\n",
       "    <span style=\"color: #008000; text-decoration-color: #008000\">'params:activity.cat_features'</span>,\n",
       "    <span style=\"color: #008000; text-decoration-color: #008000\">'params:activity.exog'</span>,\n",
       "    <span style=\"color: #008000; text-decoration-color: #008000\">'params:activity.assume_hurdle'</span>,\n",
       "    <span style=\"color: #008000; text-decoration-color: #008000\">'params:activity.n_trials'</span>,\n",
       "    <span style=\"color: #008000; text-decoration-color: #008000\">'params:activity.n_trials_adjust'</span>,\n",
       "    <span style=\"color: #008000; text-decoration-color: #008000\">'params:activity.upper_bound'</span>,\n",
       "    <span style=\"color: #008000; text-decoration-color: #008000\">'params:activity.verbose'</span>,\n",
       "    <span style=\"color: #008000; text-decoration-color: #008000\">'params:fit'</span>,\n",
       "    <span style=\"color: #008000; text-decoration-color: #008000\">'params:fit.lags'</span>,\n",
       "    <span style=\"color: #008000; text-decoration-color: #008000\">'params:fit.lags.temperature'</span>,\n",
       "    <span style=\"color: #008000; text-decoration-color: #008000\">'params:fit.cat_features'</span>,\n",
       "    <span style=\"color: #008000; text-decoration-color: #008000\">'params:fit.validation_size'</span>,\n",
       "    <span style=\"color: #008000; text-decoration-color: #008000\">'params:rebind_names'</span>,\n",
       "    <span style=\"color: #008000; text-decoration-color: #008000\">'params:rebind_names.consumption'</span>,\n",
       "    <span style=\"color: #008000; text-decoration-color: #008000\">'params:rebind_names.temperature'</span>,\n",
       "    <span style=\"color: #008000; text-decoration-color: #008000\">'params:rebind_names.timestamp'</span>,\n",
       "    <span style=\"color: #008000; text-decoration-color: #008000\">'params:date_format'</span>,\n",
       "    <span style=\"color: #008000; text-decoration-color: #008000\">'params:adequacy'</span>,\n",
       "    <span style=\"color: #008000; text-decoration-color: #008000\">'params:adequacy.max_missing_pct'</span>,\n",
       "    <span style=\"color: #008000; text-decoration-color: #008000\">'params:validation'</span>,\n",
       "    <span style=\"color: #008000; text-decoration-color: #008000\">'params:validation.threshold'</span>,\n",
       "    <span style=\"color: #008000; text-decoration-color: #008000\">'params:alignment'</span>,\n",
       "    <span style=\"color: #008000; text-decoration-color: #008000\">'params:alignment.mode'</span>,\n",
       "    <span style=\"color: #008000; text-decoration-color: #008000\">'params:alignment.mode.temperature'</span>,\n",
       "    <span style=\"color: #008000; text-decoration-color: #008000\">'params:alignment.tolerance'</span>,\n",
       "    <span style=\"color: #008000; text-decoration-color: #008000\">'params:alignment.tolerance.temperature'</span>,\n",
       "    <span style=\"color: #008000; text-decoration-color: #008000\">'params:alignment.cumulative'</span>,\n",
       "    <span style=\"color: #008000; text-decoration-color: #008000\">'params:alignment.cumulative.temperature'</span>,\n",
       "    <span style=\"color: #008000; text-decoration-color: #008000\">'params:alignment.cumulative.consumption'</span>,\n",
       "    <span style=\"color: #008000; text-decoration-color: #008000\">'params:filter'</span>,\n",
       "    <span style=\"color: #008000; text-decoration-color: #008000\">'params:filter.min_value'</span>,\n",
       "    <span style=\"color: #008000; text-decoration-color: #008000\">'params:filter.max_value'</span>,\n",
       "    <span style=\"color: #008000; text-decoration-color: #008000\">'params:filter.allow_zero'</span>,\n",
       "    <span style=\"color: #008000; text-decoration-color: #008000\">'params:filter.allow_negative'</span>\n",
       "<span style=\"font-weight: bold\">]</span>\n",
       "</pre>\n"
      ],
      "text/plain": [
       "\n",
       "\u001b[1m[\u001b[0m\n",
       "    \u001b[32m'model'\u001b[0m,\n",
       "    \u001b[32m'model-autoenc'\u001b[0m,\n",
       "    \u001b[32m'train.input-features'\u001b[0m,\n",
       "    \u001b[32m'train.input-labels'\u001b[0m,\n",
       "    \u001b[32m'train.validated-features'\u001b[0m,\n",
       "    \u001b[32m'train.validated-labels'\u001b[0m,\n",
       "    \u001b[32m'train.preprocessed-features'\u001b[0m,\n",
       "    \u001b[32m'train.preprocessed-labels'\u001b[0m,\n",
       "    \u001b[32m'train.adequacy-summary'\u001b[0m,\n",
       "    \u001b[32m'train.prediction'\u001b[0m,\n",
       "    \u001b[32m'train.prediction-autoenc'\u001b[0m,\n",
       "    \u001b[32m'train.activity'\u001b[0m,\n",
       "    \u001b[32m'train.performance'\u001b[0m,\n",
       "    \u001b[32m'train.performance-autoenc'\u001b[0m,\n",
       "    \u001b[32m'parameters'\u001b[0m,\n",
       "    \u001b[32m'app'\u001b[0m,\n",
       "    \u001b[32m'params:activity'\u001b[0m,\n",
       "    \u001b[32m'params:activity.non_occ_features'\u001b[0m,\n",
       "    \u001b[32m'params:activity.cat_features'\u001b[0m,\n",
       "    \u001b[32m'params:activity.exog'\u001b[0m,\n",
       "    \u001b[32m'params:activity.assume_hurdle'\u001b[0m,\n",
       "    \u001b[32m'params:activity.n_trials'\u001b[0m,\n",
       "    \u001b[32m'params:activity.n_trials_adjust'\u001b[0m,\n",
       "    \u001b[32m'params:activity.upper_bound'\u001b[0m,\n",
       "    \u001b[32m'params:activity.verbose'\u001b[0m,\n",
       "    \u001b[32m'params:fit'\u001b[0m,\n",
       "    \u001b[32m'params:fit.lags'\u001b[0m,\n",
       "    \u001b[32m'params:fit.lags.temperature'\u001b[0m,\n",
       "    \u001b[32m'params:fit.cat_features'\u001b[0m,\n",
       "    \u001b[32m'params:fit.validation_size'\u001b[0m,\n",
       "    \u001b[32m'params:rebind_names'\u001b[0m,\n",
       "    \u001b[32m'params:rebind_names.consumption'\u001b[0m,\n",
       "    \u001b[32m'params:rebind_names.temperature'\u001b[0m,\n",
       "    \u001b[32m'params:rebind_names.timestamp'\u001b[0m,\n",
       "    \u001b[32m'params:date_format'\u001b[0m,\n",
       "    \u001b[32m'params:adequacy'\u001b[0m,\n",
       "    \u001b[32m'params:adequacy.max_missing_pct'\u001b[0m,\n",
       "    \u001b[32m'params:validation'\u001b[0m,\n",
       "    \u001b[32m'params:validation.threshold'\u001b[0m,\n",
       "    \u001b[32m'params:alignment'\u001b[0m,\n",
       "    \u001b[32m'params:alignment.mode'\u001b[0m,\n",
       "    \u001b[32m'params:alignment.mode.temperature'\u001b[0m,\n",
       "    \u001b[32m'params:alignment.tolerance'\u001b[0m,\n",
       "    \u001b[32m'params:alignment.tolerance.temperature'\u001b[0m,\n",
       "    \u001b[32m'params:alignment.cumulative'\u001b[0m,\n",
       "    \u001b[32m'params:alignment.cumulative.temperature'\u001b[0m,\n",
       "    \u001b[32m'params:alignment.cumulative.consumption'\u001b[0m,\n",
       "    \u001b[32m'params:filter'\u001b[0m,\n",
       "    \u001b[32m'params:filter.min_value'\u001b[0m,\n",
       "    \u001b[32m'params:filter.max_value'\u001b[0m,\n",
       "    \u001b[32m'params:filter.allow_zero'\u001b[0m,\n",
       "    \u001b[32m'params:filter.allow_negative'\u001b[0m\n",
       "\u001b[1m]\u001b[0m\n"
      ]
     },
     "metadata": {},
     "output_type": "display_data"
    }
   ],
   "source": [
    "catalog.list()"
   ]
  },
  {
   "cell_type": "markdown",
   "id": "c95e477e",
   "metadata": {},
   "source": [
    "The catalog provides access to the stored artifacts:"
   ]
  },
  {
   "cell_type": "code",
   "execution_count": 10,
   "id": "d9e7a7f9",
   "metadata": {},
   "outputs": [
    {
     "data": {
      "image/png": "[encoded data removed]"
     },
     "metadata": {},
     "output_type": "display_data"
    }
   ],
   "source": [
    "X_train = catalog_train.load(\"train.preprocessed-features\")\n",
    "y_train = catalog_train.load(\"train.preprocessed-labels\")\n",
    "\n",
    "fig = plt.figure(figsize=(12, 3.54), dpi=96)\n",
    "layout = (1, 1)\n",
    "ax = plt.subplot2grid(layout, (0, 0))\n",
    "\n",
    "ax.scatter(X_train[\"temperature\"], y_train[\"consumption\"], s=10)\n",
    "ax.set_xlabel(\"temperature\")\n",
    "ax.set_ylabel(\"consumption\")"
   ]
  },
  {
   "cell_type": "markdown",
   "id": "42153523",
   "metadata": {},
   "source": [
    "Artifacts that start with the namespace, such as the `train.input-features`, are accesible only when `eensight` runs with the specific namespace, for instance:\n",
    "\n",
    "```bash\n",
    "eensight run predict --namespace train\n",
    "```\n",
    "\n",
    "Artifacts without a namespace, such as the `model`, are accesible by all pipelines irrespectively of the selected namespace. The same is true for all parameters."
   ]
  },
  {
   "cell_type": "markdown",
   "id": "28642913",
   "metadata": {},
   "source": [
    "## Parameter values\n",
    "\n",
    "`eensight` pipelines get their parameter settings from YAML files in the *conf/base/parameters* directory.\n",
    "\n",
    "```\n",
    "conf\n",
    "│   README.md \n",
    "│\n",
    "└───base\n",
    "│   │   catalog.yml\n",
    "|   |   globals.yml\n",
    "│   │   logging.yml\n",
    "│   │\n",
    "│   └── parameters\n",
    "│       ├── preprocess.yml\n",
    "│       ├── predict.yml\n",
    "   \n",
    "```\n",
    "\n",
    "Parameters are accessed and treated exactly as prescribed by the Kedro documentation: https://kedro.readthedocs.io/en/stable/kedro_project_setup/configuration.html#parameters\n",
    "\n",
    "The values of the parameters can be changed from the command line. As an example, the default value of the `activity.assume_hurdle` parameter is:"
   ]
  },
  {
   "cell_type": "code",
   "execution_count": 14,
   "id": "6589d46d",
   "metadata": {},
   "outputs": [
    {
     "data": {
      "text/html": [
       "<pre style=\"white-space:pre;overflow-x:auto;line-height:normal;font-family:Menlo,'DejaVu Sans Mono',consolas,'Courier New',monospace\"><span style=\"color: #ff0000; text-decoration-color: #ff0000; font-style: italic\">False</span>\n",
       "</pre>\n"
      ],
      "text/plain": [
       "\u001b[3;91mFalse\u001b[0m\n"
      ]
     },
     "metadata": {},
     "output_type": "display_data"
    }
   ],
   "source": [
    "catalog.load(\"params:activity.assume_hurdle\")"
   ]
  },
  {
   "cell_type": "markdown",
   "id": "7bd1c8fe",
   "metadata": {},
   "source": [
    "It can be changed to `True` by passing the following option to the command line:\n",
    "\n",
    "```bash\n",
    "eensight run predict --param activity.assume_hurdle=true\n",
    "```"
   ]
  },
  {
   "cell_type": "markdown",
   "id": "b966fc53",
   "metadata": {},
   "source": [
    "## Experiment tracking"
   ]
  },
  {
   "cell_type": "markdown",
   "id": "3c60b647",
   "metadata": {},
   "source": [
    "`eensight` uses [MLflow](https://www.mlflow.org/) for experiment tracking. By default, MLflow tracking is enabled, which means: (a) all runs get a unique id (run_id), (b) all artifacts generated by a run are saved in a `{{ store_uri }}/{{ site_id }}/tracked/{{ run_id }}/` path, and (c) all\n",
    "parameters and metrics are stored by the MLflow tracking server. If disabled, (a) runs do not\n",
    "get a run_id, (b) all artifacts generated are saved in a `{{ store_uri }}/{{ site_id }}/untracked/`\n",
    "path, and (c) parameters and metrics are not stored by MLflow. If namespace is `apply`, MLflow\n",
    "tracking is disabled automatically.\n",
    "\n",
    "Experiment tracking can be disabled by passing the `--no-tracking` flag to the command line:\n",
    "\n",
    "```bash\n",
    "eensight run predict --site-id b01 --namespace train --no-tracking\n",
    "```\n",
    "\n",
    "The generated run id can be passed to the command line as well:\n",
    "\n",
    "```bash\n",
    "eensight run predict --site-id b01 --namespace train --run-id 6fa459eaee8a3ca4\n",
    "```\n",
    "\n",
    "Passing the run id indicates to `eensight` the run that contains the artifacts to be used (by `test` and `apply` pipelines) or updated (by `train` pipelines). If not provided and namespace is `train` and MLflow tracking is enabled, a new run id will be created. If not provided and namespace is `test`\n",
    "or `apply`, the untracked artifacts will be used."
   ]
  },
  {
   "cell_type": "markdown",
   "id": "dfbf9396",
   "metadata": {},
   "source": [
    "The command\n",
    "\n",
    "```bash\n",
    "eensight run --help\n",
    "```\n",
    "\n",
    "prints the documentation for all the options that can be passed to the command line."
   ]
  },
  {
   "cell_type": "markdown",
   "id": "0b04574b",
   "metadata": {},
   "source": [
    "-----------------"
   ]
  }
 ],
 "metadata": {
  "kernelspec": {
   "display_name": "Python 3 (ipykernel)",
   "language": "python",
   "name": "python3"
  },
  "language_info": {
   "codemirror_mode": {
    "name": "ipython",
    "version": 3
   },
   "file_extension": ".py",
   "mimetype": "text/x-python",
   "name": "python",
   "nbconvert_exporter": "python",
   "pygments_lexer": "ipython3",
   "version": "3.10.0"
  }
 },
 "nbformat": 4,
 "nbformat_minor": 5
}
