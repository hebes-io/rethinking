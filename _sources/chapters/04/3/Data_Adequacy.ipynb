{
 "cells": [
  {
   "cell_type": "markdown",
   "id": "4d8892e5",
   "metadata": {},
   "source": [
    "# Evaluation of input data adequacy"
   ]
  },
  {
   "cell_type": "markdown",
   "id": "7e1ca533",
   "metadata": {},
   "source": [
    "The final step of the `preprocess` pipeline is to check that there is enough data available for the energy consumption of the building under study. Baseline energy consumption data must cover at least one (1) full year before any energy efficiency intervention. In addition, data must be available for over a certain percentage of hours in each calendar month. The default value of this percentage is 10%, but it is a user-defined parameter, so it can be adjusted.\n",
    "\n",
    "The relevant functionality is presented through an example."
   ]
  },
  {
   "cell_type": "code",
   "execution_count": 1,
   "id": "da894ec5",
   "metadata": {},
   "outputs": [],
   "source": [
    "%load_ext autoreload\n",
    "%autoreload 2"
   ]
  },
  {
   "cell_type": "code",
   "execution_count": 28,
   "id": "ab74669f",
   "metadata": {},
   "outputs": [],
   "source": [
    "import matplotlib.pyplot as plt\n",
    "import matplotlib.ticker as ticker\n",
    "\n",
    "from eensight.config import ConfigLoader\n",
    "from eensight.methods.preprocessing.adequacy import (\n",
    "    expand_dates, \n",
    "    filter_data, \n",
    "    check_data_adequacy\n",
    ")\n",
    "from eensight.settings import PROJECT_PATH\n",
    "from eensight.utils import load_catalog\n",
    "\n",
    "%matplotlib inline"
   ]
  },
  {
   "cell_type": "markdown",
   "id": "4e87cbbd",
   "metadata": {},
   "source": [
    "## Load a dataset\n",
    "\n",
    "First, we load the catalog for one of the available datasets (the one with `site_id=\"b05\"`):"
   ]
  },
  {
   "cell_type": "code",
   "execution_count": 7,
   "id": "8e2b3cab",
   "metadata": {},
   "outputs": [],
   "source": [
    "catalog = load_catalog(store_uri=\"../../../data\", site_id=\"b05\", namespace=\"train\")"
   ]
  },
  {
   "cell_type": "markdown",
   "id": "75c707c3",
   "metadata": {},
   "source": [
    "Get the data produced by the `preprocess` pipeline so far:"
   ]
  },
  {
   "cell_type": "code",
   "execution_count": 8,
   "id": "f8482634",
   "metadata": {},
   "outputs": [],
   "source": [
    "features = catalog.load(\"train.validated-features\")\n",
    "labels = catalog.load(\"train.validated-labels\")"
   ]
  },
  {
   "cell_type": "markdown",
   "id": "75d08126",
   "metadata": {},
   "source": [
    "## Expand date indices\n",
    "\n",
    "The function `eensight.methods.preprocessing.adequacy.expand_dates` expands the datetime index of a dataframe to make sure that all full days in its period are included. This includes both missing days and days that are included in the dataset but do not contain all hours.\n",
    "\n",
    "As an example, the first day in the indices of the features and labels above is not a full one (it starts at 18:45, instead of 00:00):  "
   ]
  },
  {
   "cell_type": "code",
   "execution_count": 12,
   "id": "92047c4d",
   "metadata": {},
   "outputs": [
    {
     "data": {
      "text/html": [
       "<pre style=\"white-space:pre;overflow-x:auto;line-height:normal;font-family:Menlo,'DejaVu Sans Mono',consolas,'Courier New',monospace\"><span style=\"color: #800080; text-decoration-color: #800080; font-weight: bold\">Timestamp</span><span style=\"font-weight: bold\">(</span><span style=\"color: #008000; text-decoration-color: #008000\">'2015-11-18 18:45:00'</span><span style=\"font-weight: bold\">)</span>\n",
       "</pre>\n"
      ],
      "text/plain": [
       "\u001b[1;35mTimestamp\u001b[0m\u001b[1m(\u001b[0m\u001b[32m'2015-11-18 18:45:00'\u001b[0m\u001b[1m)\u001b[0m\n"
      ]
     },
     "metadata": {},
     "output_type": "display_data"
    }
   ],
   "source": [
    "labels.index[0]"
   ]
  },
  {
   "cell_type": "markdown",
   "id": "1607aad7",
   "metadata": {},
   "source": [
    "This is resolved after applying `expand_dates`:"
   ]
  },
  {
   "cell_type": "code",
   "execution_count": 13,
   "id": "7e6f702c",
   "metadata": {},
   "outputs": [
    {
     "data": {
      "text/html": [
       "<pre style=\"white-space:pre;overflow-x:auto;line-height:normal;font-family:Menlo,'DejaVu Sans Mono',consolas,'Courier New',monospace\"><span style=\"color: #800080; text-decoration-color: #800080; font-weight: bold\">Timestamp</span><span style=\"font-weight: bold\">(</span><span style=\"color: #008000; text-decoration-color: #008000\">'2015-11-18 00:00:00'</span>, <span style=\"color: #808000; text-decoration-color: #808000\">freq</span>=<span style=\"color: #008000; text-decoration-color: #008000\">'15T'</span><span style=\"font-weight: bold\">)</span>\n",
       "</pre>\n"
      ],
      "text/plain": [
       "\u001b[1;35mTimestamp\u001b[0m\u001b[1m(\u001b[0m\u001b[32m'2015-11-18 00:00:00'\u001b[0m, \u001b[33mfreq\u001b[0m=\u001b[32m'15T'\u001b[0m\u001b[1m)\u001b[0m\n"
      ]
     },
     "metadata": {},
     "output_type": "display_data"
    }
   ],
   "source": [
    "labels = expand_dates(labels)\n",
    "labels.index[0]"
   ]
  },
  {
   "cell_type": "markdown",
   "id": "37bfd26c",
   "metadata": {},
   "source": [
    "Similarly for features:"
   ]
  },
  {
   "cell_type": "code",
   "execution_count": 14,
   "id": "d481ba07",
   "metadata": {},
   "outputs": [
    {
     "data": {
      "text/html": [
       "<pre style=\"white-space:pre;overflow-x:auto;line-height:normal;font-family:Menlo,'DejaVu Sans Mono',consolas,'Courier New',monospace\"><span style=\"color: #800080; text-decoration-color: #800080; font-weight: bold\">Timestamp</span><span style=\"font-weight: bold\">(</span><span style=\"color: #008000; text-decoration-color: #008000\">'2015-11-18 18:45:00'</span><span style=\"font-weight: bold\">)</span>\n",
       "</pre>\n"
      ],
      "text/plain": [
       "\u001b[1;35mTimestamp\u001b[0m\u001b[1m(\u001b[0m\u001b[32m'2015-11-18 18:45:00'\u001b[0m\u001b[1m)\u001b[0m\n"
      ]
     },
     "metadata": {},
     "output_type": "display_data"
    }
   ],
   "source": [
    "features.index[0]"
   ]
  },
  {
   "cell_type": "code",
   "execution_count": 15,
   "id": "79ea77e3",
   "metadata": {},
   "outputs": [
    {
     "data": {
      "text/html": [
       "<pre style=\"white-space:pre;overflow-x:auto;line-height:normal;font-family:Menlo,'DejaVu Sans Mono',consolas,'Courier New',monospace\"><span style=\"color: #800080; text-decoration-color: #800080; font-weight: bold\">Timestamp</span><span style=\"font-weight: bold\">(</span><span style=\"color: #008000; text-decoration-color: #008000\">'2015-11-18 00:00:00'</span>, <span style=\"color: #808000; text-decoration-color: #808000\">freq</span>=<span style=\"color: #008000; text-decoration-color: #008000\">'15T'</span><span style=\"font-weight: bold\">)</span>\n",
       "</pre>\n"
      ],
      "text/plain": [
       "\u001b[1;35mTimestamp\u001b[0m\u001b[1m(\u001b[0m\u001b[32m'2015-11-18 00:00:00'\u001b[0m, \u001b[33mfreq\u001b[0m=\u001b[32m'15T'\u001b[0m\u001b[1m)\u001b[0m\n"
      ]
     },
     "metadata": {},
     "output_type": "display_data"
    }
   ],
   "source": [
    "features = expand_dates(features)\n",
    "features.index[0]"
   ]
  },
  {
   "cell_type": "markdown",
   "id": "eaf8ab3a",
   "metadata": {},
   "source": [
    "## Filter values\n",
    "\n",
    "Before evaluating the adequacy of the available data, `eensight` screens for non-physically plausible values in the consumption data. Long streaks of constant values are filtered out as well (here *long* is defined in hours by `no_change_window`). However, long streaks of constant values will not be filtered out if they represent more than the `max_pct_constant` percentange of the dataset."
   ]
  },
  {
   "cell_type": "code",
   "execution_count": 21,
   "id": "a0f2489a",
   "metadata": {},
   "outputs": [],
   "source": [
    "params_filter = {\n",
    "    \"no_change_window\": 12,\n",
    "    \"max_pct_constant\": 0.05,\n",
    "    \"allow_zero\": True,\n",
    "    \"allow_negative\": False,\n",
    "}\n",
    "\n",
    "labels[\"consumption\"] = filter_data(labels[\"consumption\"], **params_filter)"
   ]
  },
  {
   "cell_type": "markdown",
   "id": "d84c0e0b",
   "metadata": {},
   "source": [
    "## Ensure that enough training data is available\n",
    "\n",
    "Missing data is data where either consumption values are missing or feature values are missing:"
   ]
  },
  {
   "cell_type": "code",
   "execution_count": 22,
   "id": "3dd13631",
   "metadata": {},
   "outputs": [],
   "source": [
    "max_missing_pct = 0.1\n",
    "missing_per_month = check_data_adequacy(features, labels, max_missing_pct=max_missing_pct)"
   ]
  },
  {
   "cell_type": "code",
   "execution_count": 23,
   "id": "cd1b7bd5",
   "metadata": {},
   "outputs": [
    {
     "data": {
      "image/png": "[encoded data removed]"
     },
     "metadata": {},
     "output_type": "display_data"
    }
   ],
   "source": [
    "with plt.style.context('seaborn-whitegrid'):    \n",
    "    fig = plt.figure(figsize=(12, 3.54), dpi=96)\n",
    "    layout = (1, 1)\n",
    "    ax = plt.subplot2grid(layout, (0, 0))\n",
    "    \n",
    "    ax.axhline(y=100 * max_missing_pct, color=\"red\", linestyle=\"dashed\")\n",
    "    \n",
    "    subset = 100 * missing_per_month.mask(missing_per_month['missing_pct'] <= max_missing_pct, 0) \n",
    "    subset.plot.bar(rot=25, ax=ax, color='#C71585', legend=False)\n",
    "    \n",
    "    subset = 100 * missing_per_month.mask(missing_per_month['missing_pct'] > max_missing_pct, 0)\n",
    "    subset.plot.bar(rot=0, ax=ax, color='#4682B4', legend=False)\n",
    "    \n",
    "    ax.set_ylabel('Percentage of missing values')\n",
    "    ax.yaxis.set_major_formatter(ticker.PercentFormatter())"
   ]
  },
  {
   "cell_type": "markdown",
   "id": "7face6f2",
   "metadata": {},
   "source": [
    "## Parameters"
   ]
  },
  {
   "cell_type": "markdown",
   "id": "459dbcc8",
   "metadata": {},
   "source": [
    "The parameters of this stage - as they can be found in the `eensight/conf/base/parameters/preprocess.yml` file are:"
   ]
  },
  {
   "cell_type": "code",
   "execution_count": 29,
   "id": "2d8e3a76",
   "metadata": {},
   "outputs": [],
   "source": [
    "params = ConfigLoader(PROJECT_PATH / \"conf\").get(\"parameters*\", \"parameters*/**\", \"**/parameters*\")"
   ]
  },
  {
   "cell_type": "code",
   "execution_count": 31,
   "id": "878bcf73",
   "metadata": {},
   "outputs": [
    {
     "data": {
      "text/html": [
       "<pre style=\"white-space:pre;overflow-x:auto;line-height:normal;font-family:Menlo,'DejaVu Sans Mono',consolas,'Courier New',monospace\">\n",
       "<span style=\"font-weight: bold\">{</span>\n",
       "    <span style=\"color: #008000; text-decoration-color: #008000\">'max_missing_pct'</span>: <span style=\"color: #008080; text-decoration-color: #008080; font-weight: bold\">0.1</span>,\n",
       "    <span style=\"color: #008000; text-decoration-color: #008000\">'filter'</span>: <span style=\"font-weight: bold\">{</span>\n",
       "        <span style=\"color: #008000; text-decoration-color: #008000\">'no_change_window'</span>: <span style=\"color: #008080; text-decoration-color: #008080; font-weight: bold\">12</span>,\n",
       "        <span style=\"color: #008000; text-decoration-color: #008000\">'max_pct_constant'</span>: <span style=\"color: #008080; text-decoration-color: #008080; font-weight: bold\">0.05</span>,\n",
       "        <span style=\"color: #008000; text-decoration-color: #008000\">'min_value'</span>: <span style=\"color: #800080; text-decoration-color: #800080; font-style: italic\">None</span>,\n",
       "        <span style=\"color: #008000; text-decoration-color: #008000\">'max_value'</span>: <span style=\"color: #800080; text-decoration-color: #800080; font-style: italic\">None</span>,\n",
       "        <span style=\"color: #008000; text-decoration-color: #008000\">'allow_zero'</span>: <span style=\"color: #00ff00; text-decoration-color: #00ff00; font-style: italic\">True</span>,\n",
       "        <span style=\"color: #008000; text-decoration-color: #008000\">'allow_negative'</span>: <span style=\"color: #ff0000; text-decoration-color: #ff0000; font-style: italic\">False</span>\n",
       "    <span style=\"font-weight: bold\">}</span>\n",
       "<span style=\"font-weight: bold\">}</span>\n",
       "</pre>\n"
      ],
      "text/plain": [
       "\n",
       "\u001b[1m{\u001b[0m\n",
       "    \u001b[32m'max_missing_pct'\u001b[0m: \u001b[1;36m0.1\u001b[0m,\n",
       "    \u001b[32m'filter'\u001b[0m: \u001b[1m{\u001b[0m\n",
       "        \u001b[32m'no_change_window'\u001b[0m: \u001b[1;36m12\u001b[0m,\n",
       "        \u001b[32m'max_pct_constant'\u001b[0m: \u001b[1;36m0.05\u001b[0m,\n",
       "        \u001b[32m'min_value'\u001b[0m: \u001b[3;35mNone\u001b[0m,\n",
       "        \u001b[32m'max_value'\u001b[0m: \u001b[3;35mNone\u001b[0m,\n",
       "        \u001b[32m'allow_zero'\u001b[0m: \u001b[3;92mTrue\u001b[0m,\n",
       "        \u001b[32m'allow_negative'\u001b[0m: \u001b[3;91mFalse\u001b[0m\n",
       "    \u001b[1m}\u001b[0m\n",
       "\u001b[1m}\u001b[0m\n"
      ]
     },
     "metadata": {},
     "output_type": "display_data"
    }
   ],
   "source": [
    "{\n",
    "    \"max_missing_pct\": params[\"max_missing_pct\"],\n",
    "    \"filter\": params[\"filter\"],\n",
    "}"
   ]
  },
  {
   "cell_type": "markdown",
   "id": "ec13b24c",
   "metadata": {},
   "source": [
    "As an example, the value of the `max_missing_pct` parameter can be changed from the command line with:   \n",
    "\n",
    "```\n",
    "--param max_missing_pct=0.2\n",
    "```\n",
    "\n",
    "and the value of the `no_change_window` parameter with:\n",
    "\n",
    "```\n",
    "--param filter.no_change_window=24\n",
    "```"
   ]
  },
  {
   "cell_type": "markdown",
   "id": "6afd4833",
   "metadata": {},
   "source": [
    "---------------"
   ]
  }
 ],
 "metadata": {
  "kernelspec": {
   "display_name": "Python 3 (ipykernel)",
   "language": "python",
   "name": "python3"
  },
  "language_info": {
   "codemirror_mode": {
    "name": "ipython",
    "version": 3
   },
   "file_extension": ".py",
   "mimetype": "text/x-python",
   "name": "python",
   "nbconvert_exporter": "python",
   "pygments_lexer": "ipython3",
   "version": "3.9.13"
  }
 },
 "nbformat": 4,
 "nbformat_minor": 5
}
